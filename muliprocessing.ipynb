{
 "cells": [
  {
   "cell_type": "code",
   "execution_count": 6,
   "id": "cc37879d",
   "metadata": {},
   "outputs": [],
   "source": [
    "import glob\n",
    "from zipfile import ZipFile"
   ]
  },
  {
   "cell_type": "code",
   "execution_count": 9,
   "id": "c5e56cc2",
   "metadata": {},
   "outputs": [],
   "source": [
    "path = ('/users/pratiksingh/Downloads/DS Coding test/Que1') # use your path"
   ]
  },
  {
   "cell_type": "code",
   "execution_count": 10,
   "id": "fb58b525",
   "metadata": {},
   "outputs": [],
   "source": [
    "files = glob.glob(path + \"/*.zip\")"
   ]
  },
  {
   "cell_type": "code",
   "execution_count": 11,
   "id": "f82ad703",
   "metadata": {
    "scrolled": true
   },
   "outputs": [
    {
     "data": {
      "text/plain": [
       "['/users/pratiksingh/Downloads/DS Coding test/Que1/ext.00013051.0000000000000000.20210308.053733384.60_Day_DAM_Disclosure.zip',\n",
       " '/users/pratiksingh/Downloads/DS Coding test/Que1/ext.00013051.0000000000000000.20210309.053731346.60_Day_DAM_Disclosure.zip',\n",
       " '/users/pratiksingh/Downloads/DS Coding test/Que1/ext.00013051.0000000000000000.20210312.060117413.60_Day_DAM_Disclosure.zip',\n",
       " '/users/pratiksingh/Downloads/DS Coding test/Que1/ext.00013051.0000000000000000.20210304.052231556.60_Day_DAM_Disclosure.zip',\n",
       " '/users/pratiksingh/Downloads/DS Coding test/Que1/ext.00013051.0000000000000000.20210306.052231786.60_Day_DAM_Disclosure.zip',\n",
       " '/users/pratiksingh/Downloads/DS Coding test/Que1/ext.00013051.0000000000000000.20210307.053731820.60_Day_DAM_Disclosure.zip',\n",
       " '/users/pratiksingh/Downloads/DS Coding test/Que1/ext.00013051.0000000000000000.20210301.055231994.60_Day_DAM_Disclosure.zip',\n",
       " '/users/pratiksingh/Downloads/DS Coding test/Que1/ext.00013051.0000000000000000.20210310.055117272.60_Day_DAM_Disclosure.zip',\n",
       " '/users/pratiksingh/Downloads/DS Coding test/Que1/ext.00013051.0000000000000000.20210311.060116708.60_Day_DAM_Disclosure.zip',\n",
       " '/users/pratiksingh/Downloads/DS Coding test/Que1/ext.00013051.0000000000000000.20210303.052231446.60_Day_DAM_Disclosure.zip',\n",
       " '/users/pratiksingh/Downloads/DS Coding test/Que1/ext.00013051.0000000000000000.20210302.052231653.60_Day_DAM_Disclosure.zip',\n",
       " '/users/pratiksingh/Downloads/DS Coding test/Que1/ext.00013051.0000000000000000.20210305.052231809.60_Day_DAM_Disclosure.zip']"
      ]
     },
     "execution_count": 11,
     "metadata": {},
     "output_type": "execute_result"
    }
   ],
   "source": [
    "files"
   ]
  },
  {
   "cell_type": "code",
   "execution_count": 46,
   "id": "eb241afa",
   "metadata": {},
   "outputs": [
    {
     "name": "stdout",
     "output_type": "stream",
     "text": [
      "                                                        0\n",
      "0       Delivery Date,\"Hour Ending\",\"QSE Name\",\"Settle...\n",
      "1       01/04/2021,\"1\",\"QAEN\",\"EXGNWTL_1\",\"LZ_AEN\",\"8\"...\n",
      "2       01/04/2021,\"1\",\"QAEN\",\"EXGNWTL_1\",\"LZ_AEN\",\"8\"...\n",
      "3       01/04/2021,\"1\",\"QAEN\",\"EXGNWTL_1\",\"LZ_AEN\",\"8\"...\n",
      "4       01/04/2021,\"1\",\"QAEN\",\"HRFDWIND_ALL\",\"LZ_AEN\",...\n",
      "...                                                   ...\n",
      "204441       01/04/2021,\"24\",\"QTETP\",\"\",\"\",\"\",\"0\",\"0\",\"3\"\n",
      "204442      01/04/2021,\"24\",\"QTETP2\",\"\",\"\",\"\",\"0\",\"0\",\"4\"\n",
      "204443      01/04/2021,\"24\",\"QTETP3\",\"\",\"\",\"\",\"0\",\"0\",\"1\"\n",
      "204444      01/04/2021,\"24\",\"QTEXPO\",\"\",\"\",\"\",\"2\",\"0\",\"2\"\n",
      "204445  01/04/2021,\"24\",\"QTOTL1\",\"-.6\",\"-1\",\"-3.3\",\"-8...\n",
      "\n",
      "[2453352 rows x 1 columns]\n"
     ]
    }
   ],
   "source": [
    "df_master = pd.DataFrame()\n",
    "flag = False\n",
    "\n",
    "for filename in files:    \n",
    "    zip_file = ZipFile(filename)\n",
    "    for text_file in zip_file.infolist():\n",
    "        if text_file.filename.endswith('60d_DAM_PTPObligationBidAwards.csv'):\n",
    "            df = pd.read_csv(zip_file.open(text_file.filename), \n",
    "            delimiter=';', \n",
    "            header=0, \n",
    "            index_col=['Delivery Date'], \n",
    "            parse_dates=['Delivery Date']\n",
    "            )\n",
    "    if not flag:\n",
    "        df_master = df\n",
    "        flag = True\n",
    "    else:\n",
    "        df_master = pd.concat([df_master, df])\n",
    "\n",
    "print(df_master)\n",
    "\n",
    "\n"
   ]
  },
  {
   "cell_type": "code",
   "execution_count": 49,
   "id": "baa83a8b",
   "metadata": {},
   "outputs": [
    {
     "data": {
      "text/html": [
       "<div>\n",
       "<style scoped>\n",
       "    .dataframe tbody tr th:only-of-type {\n",
       "        vertical-align: middle;\n",
       "    }\n",
       "\n",
       "    .dataframe tbody tr th {\n",
       "        vertical-align: top;\n",
       "    }\n",
       "\n",
       "    .dataframe thead th {\n",
       "        text-align: right;\n",
       "    }\n",
       "</style>\n",
       "<table border=\"1\" class=\"dataframe\">\n",
       "  <thead>\n",
       "    <tr style=\"text-align: right;\">\n",
       "      <th></th>\n",
       "      <th>0</th>\n",
       "    </tr>\n",
       "  </thead>\n",
       "  <tbody>\n",
       "    <tr>\n",
       "      <th>0</th>\n",
       "      <td>Delivery Date,\"Hour Ending\",\"QSE Name\",\"Settle...</td>\n",
       "    </tr>\n",
       "    <tr>\n",
       "      <th>1</th>\n",
       "      <td>01/04/2021,\"1\",\"QAEN\",\"EXGNWTL_1\",\"LZ_AEN\",\"8\"...</td>\n",
       "    </tr>\n",
       "    <tr>\n",
       "      <th>2</th>\n",
       "      <td>01/04/2021,\"1\",\"QAEN\",\"EXGNWTL_1\",\"LZ_AEN\",\"8\"...</td>\n",
       "    </tr>\n",
       "    <tr>\n",
       "      <th>3</th>\n",
       "      <td>01/04/2021,\"1\",\"QAEN\",\"EXGNWTL_1\",\"LZ_AEN\",\"8\"...</td>\n",
       "    </tr>\n",
       "    <tr>\n",
       "      <th>4</th>\n",
       "      <td>01/04/2021,\"1\",\"QAEN\",\"HRFDWIND_ALL\",\"LZ_AEN\",...</td>\n",
       "    </tr>\n",
       "  </tbody>\n",
       "</table>\n",
       "</div>"
      ],
      "text/plain": [
       "                                                   0\n",
       "0  Delivery Date,\"Hour Ending\",\"QSE Name\",\"Settle...\n",
       "1  01/04/2021,\"1\",\"QAEN\",\"EXGNWTL_1\",\"LZ_AEN\",\"8\"...\n",
       "2  01/04/2021,\"1\",\"QAEN\",\"EXGNWTL_1\",\"LZ_AEN\",\"8\"...\n",
       "3  01/04/2021,\"1\",\"QAEN\",\"EXGNWTL_1\",\"LZ_AEN\",\"8\"...\n",
       "4  01/04/2021,\"1\",\"QAEN\",\"HRFDWIND_ALL\",\"LZ_AEN\",..."
      ]
     },
     "execution_count": 49,
     "metadata": {},
     "output_type": "execute_result"
    }
   ],
   "source": [
    "df.head()"
   ]
  },
  {
   "cell_type": "code",
   "execution_count": null,
   "id": "91271e8d",
   "metadata": {},
   "outputs": [],
   "source": []
  }
 ],
 "metadata": {
  "kernelspec": {
   "display_name": "Python 3",
   "language": "python",
   "name": "python3"
  },
  "language_info": {
   "codemirror_mode": {
    "name": "ipython",
    "version": 3
   },
   "file_extension": ".py",
   "mimetype": "text/x-python",
   "name": "python",
   "nbconvert_exporter": "python",
   "pygments_lexer": "ipython3",
   "version": "3.8.8"
  }
 },
 "nbformat": 4,
 "nbformat_minor": 5
}
